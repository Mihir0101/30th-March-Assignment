{
 "cells": [
  {
   "cell_type": "markdown",
   "id": "33ca4b4f-23e1-4c37-af7d-495e6a8dcc7b",
   "metadata": {},
   "source": [
    "# 30th March Assignment"
   ]
  },
  {
   "cell_type": "code",
   "execution_count": null,
   "id": "81528330-c5c7-42e6-a210-c55b7cee2131",
   "metadata": {},
   "outputs": [],
   "source": []
  },
  {
   "cell_type": "markdown",
   "id": "11040ca7-da8c-4e1a-b20b-457461f0daee",
   "metadata": {},
   "source": [
    "## Q1. What is Elastic Net Regression and how does it differ from other regression techniques?"
   ]
  },
  {
   "cell_type": "markdown",
   "id": "9b5c3a34-c509-4fa4-8b73-b75f47b21793",
   "metadata": {},
   "source": [
    "- > Elastic Net Regression is type of regression which helps to solve the problem of overfitting and feature selection both.\n",
    "\n",
    "- > It uses the regularization terms in the formula.\n",
    "\n",
    "- > Other regression techniques only solves the one major problem,but with the help of elstic net regression we can solve multiple problems at a time."
   ]
  },
  {
   "cell_type": "code",
   "execution_count": null,
   "id": "cca41508-16fa-4be7-ac26-99be0c55f30d",
   "metadata": {},
   "outputs": [],
   "source": []
  },
  {
   "cell_type": "markdown",
   "id": "b73352ba-2f72-4ac6-8a66-5f8d8a13e067",
   "metadata": {},
   "source": [
    "## Q2. How do you choose the optimal values of the regularization parameters for Elastic Net Regression?"
   ]
  },
  {
   "cell_type": "markdown",
   "id": "256e4f75-e6aa-463d-884a-ca9821a8aff1",
   "metadata": {},
   "source": [
    "- > The value of the ragularization parameter is depends uppon requirment.\n",
    "\n",
    "- > We shouldn't select the value of it randomly.\n",
    "\n",
    "- > We can take help of hyperparameter tuning.\n",
    "\n",
    "- > With the help of it we can find the best value of regularization parameter."
   ]
  },
  {
   "cell_type": "code",
   "execution_count": null,
   "id": "60534ab0-4e76-4be6-91d3-09f035d249ac",
   "metadata": {},
   "outputs": [],
   "source": []
  },
  {
   "cell_type": "markdown",
   "id": "a1a8b278-1944-4f83-b878-4259ca75bb6d",
   "metadata": {},
   "source": [
    "## Q3. What are the advantages and disadvantages of Elastic Net Regression?"
   ]
  },
  {
   "cell_type": "markdown",
   "id": "f403ab6b-9e2e-40b0-a719-b9c4a9eec317",
   "metadata": {},
   "source": [
    "* Advantages\n",
    "\n",
    "- > It is used to reduce the overfitting.\n",
    "\n",
    "- > It is also usefull for feature selection.\n",
    "\n",
    "- > Elastic net regression is very usefull when dataset is high dimensional and have huge datapoints.\n",
    "\n",
    "- > The combination of L1 and L2 penalties in Elastic Net can lead to more stable and reliable models compared to using either penalty alone.\n",
    "\n",
    "* Disadvantages\n",
    "\n",
    "- > Elastic net regression can be computationally more expensive compared to Ridge or Lasso regression alone. \n",
    "\n",
    "- > Elastic Net has an additional hyperparameter that needs to be tuned. Finding the optimal value for α requires additional effort in the model selection process."
   ]
  },
  {
   "cell_type": "code",
   "execution_count": null,
   "id": "2eac2401-5713-4d7b-9521-7070daaa059d",
   "metadata": {},
   "outputs": [],
   "source": []
  },
  {
   "cell_type": "markdown",
   "id": "2c01b2a3-d76c-452c-b161-2cbb95db8116",
   "metadata": {},
   "source": [
    "##  Q4. What are some common use cases for Elastic Net Regression?"
   ]
  },
  {
   "cell_type": "markdown",
   "id": "a2b78882-d44c-4ba0-a942-9546148e95aa",
   "metadata": {},
   "source": [
    "- > Elastic Net is particularly useful when dealing with datasets that have a high number of predictors.\n",
    "\n",
    "- > Financial data often involves a large number of variables, and some of them may be highly correlated. Elastic Net can help in building predictive models for stock prices, portfolio management, or risk assessment while dealing with multicollinearity and maintaining model interpretability.\n",
    "\n",
    "- > Elastic Net can be applied to marketing datasets with a large number of features to identify key factors influencing customer behavior and optimize marketing strategies."
   ]
  },
  {
   "cell_type": "code",
   "execution_count": null,
   "id": "cd82c281-7aea-4a75-bc33-0e93c0e37135",
   "metadata": {},
   "outputs": [],
   "source": []
  },
  {
   "cell_type": "markdown",
   "id": "a8e195ce-454b-4b5c-b23d-b5fe75cad8e1",
   "metadata": {},
   "source": [
    "## Q5. How do you interpret the coefficients in Elastic Net Regression?"
   ]
  },
  {
   "cell_type": "markdown",
   "id": "c51393d5-2ffb-4f5c-8198-a8a47d707025",
   "metadata": {},
   "source": [
    "- > The magnitude of the coefficients reflects the strength of the relationship between the corresponding predictor variable and the response variable. Larger magnitudes indicate a stronger impact.\n",
    "\n",
    "- > Due to the L1 penalty in Elastic Net, some coefficients may be exactly zero, effectively excluding certain variables from the model. Non-zero coefficients indicate variables that are selected as relevant predictors.\n",
    "\n",
    "- > The L1 penalty encourages sparsity in the model, meaning it tends to set some coefficients to exactly zero. This results in variable selection, and variables with non-zero coefficients are considered important predictors.\n",
    "\n",
    "- > The L2 penalty helps in controlling the overall magnitude of the coefficients. It discourages overly large coefficients, which can be useful for preventing overfitting."
   ]
  },
  {
   "cell_type": "code",
   "execution_count": null,
   "id": "173c95c8-fd66-46ce-aba8-f16912d0cc20",
   "metadata": {},
   "outputs": [],
   "source": []
  },
  {
   "cell_type": "markdown",
   "id": "ba4308ed-c9ac-4229-b47d-80763f46bbe0",
   "metadata": {},
   "source": [
    "## Q6. How do you handle missing values when using Elastic Net Regression?"
   ]
  },
  {
   "cell_type": "markdown",
   "id": "358cbb07-e264-4685-909f-6dbb46832da9",
   "metadata": {},
   "source": [
    "- > One common approach is to impute missing values with estimated values. This could involve replacing missing values with the mean, median, or mode of the observed values for that variable. Imputation methods should be chosen carefully, and the choice may depend on the nature of the data.\n",
    "\n",
    "- > Multiple Imputation involves creating multiple copies of the dataset, each with different imputed values for missing data. The model is then run on each of these datasets, and the results are combined to provide more robust estimates. \n",
    "\n",
    "- > If the proportion of missing values is small and missing completely at random (MCAR), you might consider deleting observations with missing values.\n",
    "\n",
    "- > Depending on the nature of your data, you might explore more advanced imputation techniques, such as k-nearest neighbors imputation or regression imputation."
   ]
  },
  {
   "cell_type": "code",
   "execution_count": null,
   "id": "4184268c-19bf-4e0f-b27c-89da753abd36",
   "metadata": {},
   "outputs": [],
   "source": []
  },
  {
   "cell_type": "markdown",
   "id": "3a78784c-9e62-4263-b765-34270544487c",
   "metadata": {},
   "source": [
    "## Q7. How do you use Elastic Net Regression for feature selection?"
   ]
  },
  {
   "cell_type": "markdown",
   "id": "08f0087d-f448-4837-8991-53cb2aff131f",
   "metadata": {},
   "source": [
    "- > Elastic net provides us facilities for feature selection.\n",
    "\n",
    "- > By usin ragularization term we can select features easily.\n",
    "\n",
    "- > We have to select the value of hyperparameter that is also known as lambda.\n",
    "\n",
    "- > According to that value elastic net tends to decrease value of coefficient and make some coefficient exactly zero.\n",
    "\n",
    "- > Features have zero coefficients are removed."
   ]
  },
  {
   "cell_type": "code",
   "execution_count": null,
   "id": "431d0c15-f049-4a09-91b9-f8dfefc47333",
   "metadata": {},
   "outputs": [],
   "source": []
  },
  {
   "cell_type": "markdown",
   "id": "76beaa12-94a7-4420-8b7a-bd7ff7aefe4c",
   "metadata": {},
   "source": [
    "## Q8. How do you pickle and unpickle a trained Elastic Net Regression model in Python?"
   ]
  },
  {
   "cell_type": "markdown",
   "id": "d92d50b0-4d2c-4923-b081-3aa0b2eb4d57",
   "metadata": {},
   "source": [
    "- > There is a function available in python for pickle and unpickle the file.\n",
    "\n",
    "Code :\n",
    "\n",
    "import pickle\n",
    "\n",
    "* Pickling the File\n",
    "\n",
    "pickle.dump(elasticnet,open('elasticnet.pkl','wb'))\n",
    "\n",
    "* Unpickling the File\n",
    "\n",
    "pickle.load(open('elasticnet.pkl','rb'))"
   ]
  },
  {
   "cell_type": "code",
   "execution_count": null,
   "id": "1f3cb865-39b2-4401-b668-0b4fa34d7a2a",
   "metadata": {},
   "outputs": [],
   "source": []
  },
  {
   "cell_type": "markdown",
   "id": "ae807896-f599-4c28-868e-4a7a2ed0870a",
   "metadata": {},
   "source": [
    "## Q9. What is the purpose of pickling a model in machine learning?"
   ]
  },
  {
   "cell_type": "markdown",
   "id": "168d69a1-f5db-431a-9d65-6e1ca6439ffb",
   "metadata": {},
   "source": [
    "- > Pickling is very usefull in machine learning.\n",
    "\n",
    "- > If we trained any model of machine learning so we can pickle it and save it as a file.\n",
    "\n",
    "- > We can use that model for different uses.\n",
    "\n",
    "- > We can call that model anywhere through a simple line of code.\n",
    "\n",
    "- > Because of pickling technique we don't have to train any model multiple time,we can just simply train it o"
   ]
  }
 ],
 "metadata": {
  "kernelspec": {
   "display_name": "Python 3 (ipykernel)",
   "language": "python",
   "name": "python3"
  },
  "language_info": {
   "codemirror_mode": {
    "name": "ipython",
    "version": 3
   },
   "file_extension": ".py",
   "mimetype": "text/x-python",
   "name": "python",
   "nbconvert_exporter": "python",
   "pygments_lexer": "ipython3",
   "version": "3.10.8"
  }
 },
 "nbformat": 4,
 "nbformat_minor": 5
}
